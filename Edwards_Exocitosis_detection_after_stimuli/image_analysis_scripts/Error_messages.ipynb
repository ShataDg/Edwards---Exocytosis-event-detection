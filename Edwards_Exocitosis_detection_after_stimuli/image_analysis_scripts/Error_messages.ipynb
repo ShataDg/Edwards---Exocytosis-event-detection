Error_messages.ipynb

#Cannot import name LAPUtils
Traceback (most recent call last):
  File "/Users/sdasgupt/Documents/TRD2_protocol/Edwards---Exocytosis-event-detection/Edwards_Exocitosis_detection_after_stimuli/image_analysis_scripts/Event_detection_withGUI_overlay.py", line 10, in <module>
    from fiji.plugin.trackmate.tracking import LAPUtils
ImportError: cannot import name LAPUtils

	at org.python.core.Py.ImportError(Py.java:329)
	at org.python.core.imp.importFromAs(imp.java:1632)
	at org.python.core.imp.importFrom(imp.java:1595)
	at org.python.pycode._pyx0.f$0(/Users/sdasgupt/Documents/TRD2_protocol/Edwards---Exocytosis-event-detection/Edwards_Exocitosis_detection_after_stimuli/image_analysis_scripts/Event_detection_withGUI_overlay.py:74)
	at org.python.pycode._pyx0.call_function(/Users/sdasgupt/Documents/TRD2_protocol/Edwards---Exocytosis-event-detection/Edwards_Exocitosis_detection_after_stimuli/image_analysis_scripts/Event_detection_withGUI_overlay.py)
	at org.python.core.PyTableCode.call(PyTableCode.java:173)
	at org.python.core.PyCode.call(PyCode.java:18)
	at org.python.core.Py.runCode(Py.java:1687)
	at org.python.core.__builtin__.eval(__builtin__.java:497)
	at org.python.core.__builtin__.eval(__builtin__.java:501)
	at org.python.util.PythonInterpreter.eval(PythonInterpreter.java:255)
	at org.python.jsr223.PyScriptEngine.eval(PyScriptEngine.java:57)
	at org.python.jsr223.PyScriptEngine.eval(PyScriptEngine.java:31)
	at javax.script.AbstractScriptEngine.eval(AbstractScriptEngine.java:264)
	at org.scijava.script.ScriptModule.run(ScriptModule.java:173)
	at org.scijava.module.ModuleRunner.run(ModuleRunner.java:165)
	at org.scijava.module.ModuleRunner.call(ModuleRunner.java:125)
	at org.scijava.module.ModuleRunner.call(ModuleRunner.java:64)
	at org.scijava.thread.DefaultThreadService.lambda$wrap$2(DefaultThreadService.java:247)
	at java.util.concurrent.FutureTask.run(FutureTask.java:266)
	at java.util.concurrent.ThreadPoolExecutor.runWorker(ThreadPoolExecutor.java:1149)
	at java.util.concurrent.ThreadPoolExecutor$Worker.run(ThreadPoolExecutor.java:624)
	at java.lang.Thread.run(Thread.java:750)

#changed code
from fiji.plugin.trackmate.tracking.LAPUtils import LAPUtils

Started Event_detection_withGUI_overlay.py at Fri May 03 11:06:49 EDT 2024
Traceback (most recent call last):
  File "/Users/sdasgupt/Documents/TRD2_protocol/Edwards---Exocytosis-event-detection/Edwards_Exocitosis_detection_after_stimuli/image_analysis_scripts/Event_detection_withGUI_overlay.py", line 10, in <module>
    from fiji.plugin.trackmate.tracking import LAPUtils
ImportError: No module named LAPUtils

	at org.python.core.Py.ImportError(Py.java:329)
	at org.python.core.imp.import_logic(imp.java:1290)
	at org.python.core.imp.import_module_level(imp.java:1369)
	at org.python.core.imp.importName(imp.java:1528)
	at org.python.core.ImportFunction.__call__(__builtin__.java:1285)
	at org.python.core.PyObject.__call__(PyObject.java:433)
	at org.python.core.__builtin__.__import__(__builtin__.java:1232)
	at org.python.core.imp.importFromAs(imp.java:1620)
	at org.python.core.imp.importFrom(imp.java:1595)
	at org.python.pycode._pyx5.f$0(/Users/sdasgupt/Documents/TRD2_protocol/Edwards---Exocytosis-event-detection/Edwards_Exocitosis_detection_after_stimuli/image_analysis_scripts/Event_detection_withGUI_overlay.py:74)
	at org.python.pycode._pyx5.call_function(/Users/sdasgupt/Documents/TRD2_protocol/Edwards---Exocytosis-event-detection/Edwards_Exocitosis_detection_after_stimuli/image_analysis_scripts/Event_detection_withGUI_overlay.py)
	at org.python.core.PyTableCode.call(PyTableCode.java:173)
	at org.python.core.PyCode.call(PyCode.java:18)
	at org.python.core.Py.runCode(Py.java:1687)
	at org.python.core.__builtin__.eval(__builtin__.java:497)
	at org.python.core.__builtin__.eval(__builtin__.java:501)
	at org.python.util.PythonInterpreter.eval(PythonInterpreter.java:255)
	at org.python.jsr223.PyScriptEngine.eval(PyScriptEngine.java:57)
	at org.python.jsr223.PyScriptEngine.eval(PyScriptEngine.java:31)
	at javax.script.AbstractScriptEngine.eval(AbstractScriptEngine.java:264)
	at org.scijava.script.ScriptModule.run(ScriptModule.java:173)
	at org.scijava.module.ModuleRunner.run(ModuleRunner.java:165)
	at org.scijava.module.ModuleRunner.call(ModuleRunner.java:125)
	at org.scijava.module.ModuleRunner.call(ModuleRunner.java:64)
	at org.scijava.thread.DefaultThreadService.lambda$wrap$2(DefaultThreadService.java:247)
	at java.util.concurrent.FutureTask.run(FutureTask.java:266)
	at java.util.concurrent.ThreadPoolExecutor.runWorker(ThreadPoolExecutor.java:1149)
	at java.util.concurrent.ThreadPoolExecutor$Worker.run(ThreadPoolExecutor.java:624)
	at java.lang.Thread.run(Thread.java:750)




